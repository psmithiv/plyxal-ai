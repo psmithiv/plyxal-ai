{
 "cells": [
  {
   "cell_type": "markdown",
   "id": "cfc00d27-9804-45df-9dc3-c57d80a49d33",
   "metadata": {
    "jp-MarkdownHeadingCollapsed": true,
    "tags": []
   },
   "source": [
    "## check min requirements"
   ]
  },
  {
   "cell_type": "code",
   "execution_count": null,
   "id": "b40a0b18-ed3d-4c3f-809d-f2f156c2bd27",
   "metadata": {
    "tags": []
   },
   "outputs": [],
   "source": [
    "# confirm python and pip versions meet min requirements (3.10.x and 23.2.x respectivly)\n",
    "!python3 --version\n",
    "!pip3 --version\n",
    "!poetry --version"
   ]
  },
  {
   "cell_type": "markdown",
   "id": "5b19179f-2127-4fbd-9ce5-f44d7bcacd69",
   "metadata": {
    "jp-MarkdownHeadingCollapsed": true,
    "tags": []
   },
   "source": [
    "## install poetry and dependensees"
   ]
  },
  {
   "cell_type": "code",
   "execution_count": null,
   "id": "af65cad1-c5d5-49ac-81e3-295290ab5adc",
   "metadata": {},
   "outputs": [],
   "source": [
    "# install poetry\n",
    "!pip3 install -q poetry 2>/dev/null --root-user-action=ignore \n",
    "!poetry --version"
   ]
  },
  {
   "cell_type": "code",
   "execution_count": null,
   "id": "4adcb594-9a31-4e1e-9415-548f27a5641f",
   "metadata": {
    "tags": []
   },
   "outputs": [],
   "source": [
    "# create virtual environment and install dependancies\n",
    "!poetry install --no-cache\n",
    "!poetry env info -p"
   ]
  },
  {
   "cell_type": "markdown",
   "id": "002835e9-dc06-444a-9056-afa1ee567aa4",
   "metadata": {
    "jp-MarkdownHeadingCollapsed": true,
    "tags": []
   },
   "source": [
    "## create notebook kernal"
   ]
  },
  {
   "cell_type": "code",
   "execution_count": null,
   "id": "2d5c2536-634e-4bb6-9e52-33d06faa8fe8",
   "metadata": {
    "tags": []
   },
   "outputs": [],
   "source": [
    "# create poetry jypter kernel\n",
    "import os, subprocess\n",
    "\n",
    "# Run the 'poetry env info --path' command to get the venv path\n",
    "venv_path = subprocess.check_output([\"poetry\", \"env\", \"info\", \"--path\"], universal_newlines=True).strip()\n",
    "print(venv_path)\n",
    "\n",
    "# Construct the command to create the Jupyter kernel\n",
    "kernel_command = f\"{venv_path}/bin/python -m ipykernel install --user --name plyxal-ai --display-name plyxal-ai\"\n",
    "os.system(kernel_command)\n",
    "\n",
    "print(\"the poety environment is now configured, please switch kernels using 'Kernel -> Change Kernel...'\")"
   ]
  },
  {
   "cell_type": "markdown",
   "id": "67add246-70f8-4108-9f4c-ac331aa62e03",
   "metadata": {
    "tags": []
   },
   "source": [
    "## utils"
   ]
  },
  {
   "cell_type": "raw",
   "id": "8eeea61e-75c6-4c48-89c5-74c343395f31",
   "metadata": {
    "tags": []
   },
   "source": [
    "# remove kernal (use at own risk)\n",
    "import os\n",
    "\n",
    "poetry_env_name = os.popen(\"poetry env info --path | awk -F/ '{print $(NF-1)}'\").read().strip()\n",
    "\n",
    "# Construct the command to remove the kernel and redirect stdin to /dev/null\n",
    "kernel_removal_command = f\"echo 'y' | jupyter kernelspec remove {poetry_env_name}\"\n",
    "\n",
    "# Use os.system to execute the kernel removal command\n",
    "os.system(kernel_removal_command)"
   ]
  },
  {
   "cell_type": "raw",
   "id": "f38e9b0b-ee98-411a-b914-02d50bb2fa81",
   "metadata": {
    "tags": []
   },
   "source": [
    "# remove all virtual environments\n",
    "!poetry env remove --all"
   ]
  },
  {
   "cell_type": "raw",
   "id": "844f8b6f-c429-46c0-afbb-51d00466b229",
   "metadata": {
    "tags": []
   },
   "source": [
    "# install older version of torchvision to avoid defect that causes peotry to delete a lib\n",
    "!poetry add ipywidgets"
   ]
  },
  {
   "cell_type": "raw",
   "id": "15e1c8e1-89be-4aa0-951f-af777fc2f8e6",
   "metadata": {
    "tags": []
   },
   "source": [
    "# remove current virtual environment\n",
    "!poetry env remove 3.10.6"
   ]
  },
  {
   "cell_type": "raw",
   "id": "13ec298d-5701-4feb-8fc7-418e2b5a57e6",
   "metadata": {
    "tags": []
   },
   "source": [
    "# add lib\n",
    "!poetry add transformers==4.32.0 accelerate tiktoken einops scipy transformers_stream_generator==0.0.4 peft deepspeed"
   ]
  },
  {
   "cell_type": "code",
   "execution_count": null,
   "id": "ac5df36d-56d7-4bd4-b38d-ca243c81c008",
   "metadata": {
    "tags": []
   },
   "outputs": [],
   "source": [
    "# remove all models\n",
    "!rm ./.mdoel -r"
   ]
  },
  {
   "cell_type": "raw",
   "id": "2c493997-5725-4fa1-a45a-61db20ba78f7",
   "metadata": {
    "tags": []
   },
   "source": [
    "# clear cache\n",
    "!pip cache purge\n",
    "!pip3 cache prurge\n",
    "!rm -rf ~/.cache/pypoetry\n",
    "!rm -rf /qwen\n",
    "!conda clean -a"
   ]
  },
  {
   "cell_type": "raw",
   "id": "92afb11c-fa82-4246-80a7-d7285db62ab7",
   "metadata": {},
   "source": [
    "!pip install huggingface_hub[\"cli\"]\n",
    "!huggingface-cli delete-cache"
   ]
  },
  {
   "cell_type": "raw",
   "id": "5f44cba9-c8f5-44d1-9b78-fd1ed4d6c4aa",
   "metadata": {
    "tags": []
   },
   "source": [
    "# install/build flash attention\n",
    "!poetry run git clone -b v1.0.8 https://github.com/Dao-AILab/flash-attention && poetry run pip install ./flash-attention\n"
   ]
  },
  {
   "cell_type": "markdown",
   "id": "faa4696f-89cd-4ece-9e4b-39517cf77c42",
   "metadata": {
    "tags": []
   },
   "source": [
    "# setup environment"
   ]
  },
  {
   "cell_type": "code",
   "execution_count": null,
   "id": "9faf5a23-62d2-4f5d-b826-0b8423aefe78",
   "metadata": {
    "scrolled": true,
    "tags": []
   },
   "outputs": [],
   "source": [
    "!python setup.pyn"
   ]
  },
  {
   "cell_type": "markdown",
   "id": "757c8386-9f3a-465b-bc15-deb4ec5fdc5d",
   "metadata": {
    "jp-MarkdownHeadingCollapsed": true,
    "tags": []
   },
   "source": [
    "# utils"
   ]
  },
  {
   "cell_type": "markdown",
   "id": "8ad57b54-50a2-4c58-a9f1-37f40e796ef4",
   "metadata": {
    "tags": []
   },
   "source": [
    "## remove all poetry environments and kernals"
   ]
  },
  {
   "cell_type": "code",
   "execution_count": null,
   "id": "74ce3795-e8a8-4d6d-8d1f-5b747cb50f60",
   "metadata": {
    "tags": []
   },
   "outputs": [],
   "source": [
    "!python ./src/scripts/environment/poetry_remove_environment.py"
   ]
  },
  {
   "cell_type": "markdown",
   "id": "f717b576-d0e6-4dca-846f-40642e9274c0",
   "metadata": {
    "tags": []
   },
   "source": [
    "## create symlinks to hidden folders"
   ]
  },
  {
   "cell_type": "code",
   "execution_count": null,
   "id": "dac6d8f1-d65c-430b-9164-3ceb4160f58d",
   "metadata": {
    "scrolled": true,
    "tags": []
   },
   "outputs": [],
   "source": [
    "# show hidden (refresh file browser after running)\n",
    "!poetry run python ./src/scripts/environment/symlinks.py ./ -i .git .ipynb_checkpoints -q"
   ]
  },
  {
   "cell_type": "code",
   "execution_count": null,
   "id": "751c5c2a-c102-476d-bef2-d1db859b948d",
   "metadata": {
    "tags": []
   },
   "outputs": [],
   "source": [
    "# hide hidden (refresh file browser after running)\n",
    "!poetry run python ./src/scripts/environment/symlink_manager.py ./ -r -q"
   ]
  },
  {
   "cell_type": "markdown",
   "id": "9a031833-efba-464e-b535-b1ca1c19ffc1",
   "metadata": {
    "jp-MarkdownHeadingCollapsed": true,
    "tags": []
   },
   "source": [
    "# launch application"
   ]
  },
  {
   "cell_type": "markdown",
   "id": "f3cb65f4-40da-417b-b5d4-8bc1e4999338",
   "metadata": {
    "jp-MarkdownHeadingCollapsed": true,
    "tags": []
   },
   "source": [
    "## current"
   ]
  },
  {
   "cell_type": "code",
   "execution_count": null,
   "id": "bd8d40ac-3d9f-45f9-a9f5-fad06c665ecd",
   "metadata": {
    "scrolled": true,
    "tags": []
   },
   "outputs": [],
   "source": [
    "from qwen_14b_chat import Qwen14bChat\n",
    "\n",
    "qwen = Qwen14bChat()\n",
    "response = qwen.send_message('Hello')\n",
    "print(resposne)"
   ]
  },
  {
   "cell_type": "markdown",
   "id": "fa19fe3e-363d-4963-ba67-3a250599e5eb",
   "metadata": {
    "tags": []
   },
   "source": [
    "## old"
   ]
  },
  {
   "cell_type": "raw",
   "id": "36474128-93b6-4786-b96f-0c9bb6c79133",
   "metadata": {
    "tags": []
   },
   "source": [
    "# launch qwe_vl.py\n",
    "!poetry run python /root/plyxal-ai/src/qwen_vl/qwen_vl.py --cpu-only --share --server-port=2222 --model-cache=\"/root/models/qwen\""
   ]
  },
  {
   "cell_type": "raw",
   "id": "95c8090f-ab1f-4150-b676-cc9357e4bbac",
   "metadata": {
    "tags": []
   },
   "source": [
    "# launch qwen_vl_int4.py\n",
    "!poetry run python /root/plyxal-ai/src/plyxal_ai.py --message=\"hello\""
   ]
  },
  {
   "cell_type": "markdown",
   "id": "3f48bfee-b8fd-436f-a54a-7cc627251598",
   "metadata": {
    "tags": []
   },
   "source": [
    "# test"
   ]
  },
  {
   "cell_type": "code",
   "execution_count": null,
   "id": "78f4385c-81d4-4868-b776-bd66a7d32207",
   "metadata": {
    "tags": []
   },
   "outputs": [],
   "source": [
    "!python ./src/scripts/environment/remove_poetry.py"
   ]
  },
  {
   "cell_type": "code",
   "execution_count": null,
   "id": "06c55299-b312-47c6-b20b-21ae8e3d555d",
   "metadata": {},
   "outputs": [],
   "source": [
    "!poetry add yaspin"
   ]
  },
  {
   "cell_type": "code",
   "execution_count": null,
   "id": "5f9c52cf-646a-420c-979e-4e19478725ff",
   "metadata": {},
   "outputs": [],
   "source": []
  }
 ],
 "metadata": {
  "availableInstances": [
   {
    "_defaultOrder": 0,
    "_isFastLaunch": true,
    "category": "General purpose",
    "gpuNum": 0,
    "hideHardwareSpecs": false,
    "memoryGiB": 4,
    "name": "ml.t3.medium",
    "vcpuNum": 2
   },
   {
    "_defaultOrder": 1,
    "_isFastLaunch": false,
    "category": "General purpose",
    "gpuNum": 0,
    "hideHardwareSpecs": false,
    "memoryGiB": 8,
    "name": "ml.t3.large",
    "vcpuNum": 2
   },
   {
    "_defaultOrder": 2,
    "_isFastLaunch": false,
    "category": "General purpose",
    "gpuNum": 0,
    "hideHardwareSpecs": false,
    "memoryGiB": 16,
    "name": "ml.t3.xlarge",
    "vcpuNum": 4
   },
   {
    "_defaultOrder": 3,
    "_isFastLaunch": false,
    "category": "General purpose",
    "gpuNum": 0,
    "hideHardwareSpecs": false,
    "memoryGiB": 32,
    "name": "ml.t3.2xlarge",
    "vcpuNum": 8
   },
   {
    "_defaultOrder": 4,
    "_isFastLaunch": true,
    "category": "General purpose",
    "gpuNum": 0,
    "hideHardwareSpecs": false,
    "memoryGiB": 8,
    "name": "ml.m5.large",
    "vcpuNum": 2
   },
   {
    "_defaultOrder": 5,
    "_isFastLaunch": false,
    "category": "General purpose",
    "gpuNum": 0,
    "hideHardwareSpecs": false,
    "memoryGiB": 16,
    "name": "ml.m5.xlarge",
    "vcpuNum": 4
   },
   {
    "_defaultOrder": 6,
    "_isFastLaunch": false,
    "category": "General purpose",
    "gpuNum": 0,
    "hideHardwareSpecs": false,
    "memoryGiB": 32,
    "name": "ml.m5.2xlarge",
    "vcpuNum": 8
   },
   {
    "_defaultOrder": 7,
    "_isFastLaunch": false,
    "category": "General purpose",
    "gpuNum": 0,
    "hideHardwareSpecs": false,
    "memoryGiB": 64,
    "name": "ml.m5.4xlarge",
    "vcpuNum": 16
   },
   {
    "_defaultOrder": 8,
    "_isFastLaunch": false,
    "category": "General purpose",
    "gpuNum": 0,
    "hideHardwareSpecs": false,
    "memoryGiB": 128,
    "name": "ml.m5.8xlarge",
    "vcpuNum": 32
   },
   {
    "_defaultOrder": 9,
    "_isFastLaunch": false,
    "category": "General purpose",
    "gpuNum": 0,
    "hideHardwareSpecs": false,
    "memoryGiB": 192,
    "name": "ml.m5.12xlarge",
    "vcpuNum": 48
   },
   {
    "_defaultOrder": 10,
    "_isFastLaunch": false,
    "category": "General purpose",
    "gpuNum": 0,
    "hideHardwareSpecs": false,
    "memoryGiB": 256,
    "name": "ml.m5.16xlarge",
    "vcpuNum": 64
   },
   {
    "_defaultOrder": 11,
    "_isFastLaunch": false,
    "category": "General purpose",
    "gpuNum": 0,
    "hideHardwareSpecs": false,
    "memoryGiB": 384,
    "name": "ml.m5.24xlarge",
    "vcpuNum": 96
   },
   {
    "_defaultOrder": 12,
    "_isFastLaunch": false,
    "category": "General purpose",
    "gpuNum": 0,
    "hideHardwareSpecs": false,
    "memoryGiB": 8,
    "name": "ml.m5d.large",
    "vcpuNum": 2
   },
   {
    "_defaultOrder": 13,
    "_isFastLaunch": false,
    "category": "General purpose",
    "gpuNum": 0,
    "hideHardwareSpecs": false,
    "memoryGiB": 16,
    "name": "ml.m5d.xlarge",
    "vcpuNum": 4
   },
   {
    "_defaultOrder": 14,
    "_isFastLaunch": false,
    "category": "General purpose",
    "gpuNum": 0,
    "hideHardwareSpecs": false,
    "memoryGiB": 32,
    "name": "ml.m5d.2xlarge",
    "vcpuNum": 8
   },
   {
    "_defaultOrder": 15,
    "_isFastLaunch": false,
    "category": "General purpose",
    "gpuNum": 0,
    "hideHardwareSpecs": false,
    "memoryGiB": 64,
    "name": "ml.m5d.4xlarge",
    "vcpuNum": 16
   },
   {
    "_defaultOrder": 16,
    "_isFastLaunch": false,
    "category": "General purpose",
    "gpuNum": 0,
    "hideHardwareSpecs": false,
    "memoryGiB": 128,
    "name": "ml.m5d.8xlarge",
    "vcpuNum": 32
   },
   {
    "_defaultOrder": 17,
    "_isFastLaunch": false,
    "category": "General purpose",
    "gpuNum": 0,
    "hideHardwareSpecs": false,
    "memoryGiB": 192,
    "name": "ml.m5d.12xlarge",
    "vcpuNum": 48
   },
   {
    "_defaultOrder": 18,
    "_isFastLaunch": false,
    "category": "General purpose",
    "gpuNum": 0,
    "hideHardwareSpecs": false,
    "memoryGiB": 256,
    "name": "ml.m5d.16xlarge",
    "vcpuNum": 64
   },
   {
    "_defaultOrder": 19,
    "_isFastLaunch": false,
    "category": "General purpose",
    "gpuNum": 0,
    "hideHardwareSpecs": false,
    "memoryGiB": 384,
    "name": "ml.m5d.24xlarge",
    "vcpuNum": 96
   },
   {
    "_defaultOrder": 20,
    "_isFastLaunch": false,
    "category": "General purpose",
    "gpuNum": 0,
    "hideHardwareSpecs": true,
    "memoryGiB": 0,
    "name": "ml.geospatial.interactive",
    "supportedImageNames": [
     "sagemaker-geospatial-v1-0"
    ],
    "vcpuNum": 0
   },
   {
    "_defaultOrder": 21,
    "_isFastLaunch": true,
    "category": "Compute optimized",
    "gpuNum": 0,
    "hideHardwareSpecs": false,
    "memoryGiB": 4,
    "name": "ml.c5.large",
    "vcpuNum": 2
   },
   {
    "_defaultOrder": 22,
    "_isFastLaunch": false,
    "category": "Compute optimized",
    "gpuNum": 0,
    "hideHardwareSpecs": false,
    "memoryGiB": 8,
    "name": "ml.c5.xlarge",
    "vcpuNum": 4
   },
   {
    "_defaultOrder": 23,
    "_isFastLaunch": false,
    "category": "Compute optimized",
    "gpuNum": 0,
    "hideHardwareSpecs": false,
    "memoryGiB": 16,
    "name": "ml.c5.2xlarge",
    "vcpuNum": 8
   },
   {
    "_defaultOrder": 24,
    "_isFastLaunch": false,
    "category": "Compute optimized",
    "gpuNum": 0,
    "hideHardwareSpecs": false,
    "memoryGiB": 32,
    "name": "ml.c5.4xlarge",
    "vcpuNum": 16
   },
   {
    "_defaultOrder": 25,
    "_isFastLaunch": false,
    "category": "Compute optimized",
    "gpuNum": 0,
    "hideHardwareSpecs": false,
    "memoryGiB": 72,
    "name": "ml.c5.9xlarge",
    "vcpuNum": 36
   },
   {
    "_defaultOrder": 26,
    "_isFastLaunch": false,
    "category": "Compute optimized",
    "gpuNum": 0,
    "hideHardwareSpecs": false,
    "memoryGiB": 96,
    "name": "ml.c5.12xlarge",
    "vcpuNum": 48
   },
   {
    "_defaultOrder": 27,
    "_isFastLaunch": false,
    "category": "Compute optimized",
    "gpuNum": 0,
    "hideHardwareSpecs": false,
    "memoryGiB": 144,
    "name": "ml.c5.18xlarge",
    "vcpuNum": 72
   },
   {
    "_defaultOrder": 28,
    "_isFastLaunch": false,
    "category": "Compute optimized",
    "gpuNum": 0,
    "hideHardwareSpecs": false,
    "memoryGiB": 192,
    "name": "ml.c5.24xlarge",
    "vcpuNum": 96
   },
   {
    "_defaultOrder": 29,
    "_isFastLaunch": true,
    "category": "Accelerated computing",
    "gpuNum": 1,
    "hideHardwareSpecs": false,
    "memoryGiB": 16,
    "name": "ml.g4dn.xlarge",
    "vcpuNum": 4
   },
   {
    "_defaultOrder": 30,
    "_isFastLaunch": false,
    "category": "Accelerated computing",
    "gpuNum": 1,
    "hideHardwareSpecs": false,
    "memoryGiB": 32,
    "name": "ml.g4dn.2xlarge",
    "vcpuNum": 8
   },
   {
    "_defaultOrder": 31,
    "_isFastLaunch": false,
    "category": "Accelerated computing",
    "gpuNum": 1,
    "hideHardwareSpecs": false,
    "memoryGiB": 64,
    "name": "ml.g4dn.4xlarge",
    "vcpuNum": 16
   },
   {
    "_defaultOrder": 32,
    "_isFastLaunch": false,
    "category": "Accelerated computing",
    "gpuNum": 1,
    "hideHardwareSpecs": false,
    "memoryGiB": 128,
    "name": "ml.g4dn.8xlarge",
    "vcpuNum": 32
   },
   {
    "_defaultOrder": 33,
    "_isFastLaunch": false,
    "category": "Accelerated computing",
    "gpuNum": 4,
    "hideHardwareSpecs": false,
    "memoryGiB": 192,
    "name": "ml.g4dn.12xlarge",
    "vcpuNum": 48
   },
   {
    "_defaultOrder": 34,
    "_isFastLaunch": false,
    "category": "Accelerated computing",
    "gpuNum": 1,
    "hideHardwareSpecs": false,
    "memoryGiB": 256,
    "name": "ml.g4dn.16xlarge",
    "vcpuNum": 64
   },
   {
    "_defaultOrder": 35,
    "_isFastLaunch": false,
    "category": "Accelerated computing",
    "gpuNum": 1,
    "hideHardwareSpecs": false,
    "memoryGiB": 61,
    "name": "ml.p3.2xlarge",
    "vcpuNum": 8
   },
   {
    "_defaultOrder": 36,
    "_isFastLaunch": false,
    "category": "Accelerated computing",
    "gpuNum": 4,
    "hideHardwareSpecs": false,
    "memoryGiB": 244,
    "name": "ml.p3.8xlarge",
    "vcpuNum": 32
   },
   {
    "_defaultOrder": 37,
    "_isFastLaunch": false,
    "category": "Accelerated computing",
    "gpuNum": 8,
    "hideHardwareSpecs": false,
    "memoryGiB": 488,
    "name": "ml.p3.16xlarge",
    "vcpuNum": 64
   },
   {
    "_defaultOrder": 38,
    "_isFastLaunch": false,
    "category": "Accelerated computing",
    "gpuNum": 8,
    "hideHardwareSpecs": false,
    "memoryGiB": 768,
    "name": "ml.p3dn.24xlarge",
    "vcpuNum": 96
   },
   {
    "_defaultOrder": 39,
    "_isFastLaunch": false,
    "category": "Memory Optimized",
    "gpuNum": 0,
    "hideHardwareSpecs": false,
    "memoryGiB": 16,
    "name": "ml.r5.large",
    "vcpuNum": 2
   },
   {
    "_defaultOrder": 40,
    "_isFastLaunch": false,
    "category": "Memory Optimized",
    "gpuNum": 0,
    "hideHardwareSpecs": false,
    "memoryGiB": 32,
    "name": "ml.r5.xlarge",
    "vcpuNum": 4
   },
   {
    "_defaultOrder": 41,
    "_isFastLaunch": false,
    "category": "Memory Optimized",
    "gpuNum": 0,
    "hideHardwareSpecs": false,
    "memoryGiB": 64,
    "name": "ml.r5.2xlarge",
    "vcpuNum": 8
   },
   {
    "_defaultOrder": 42,
    "_isFastLaunch": false,
    "category": "Memory Optimized",
    "gpuNum": 0,
    "hideHardwareSpecs": false,
    "memoryGiB": 128,
    "name": "ml.r5.4xlarge",
    "vcpuNum": 16
   },
   {
    "_defaultOrder": 43,
    "_isFastLaunch": false,
    "category": "Memory Optimized",
    "gpuNum": 0,
    "hideHardwareSpecs": false,
    "memoryGiB": 256,
    "name": "ml.r5.8xlarge",
    "vcpuNum": 32
   },
   {
    "_defaultOrder": 44,
    "_isFastLaunch": false,
    "category": "Memory Optimized",
    "gpuNum": 0,
    "hideHardwareSpecs": false,
    "memoryGiB": 384,
    "name": "ml.r5.12xlarge",
    "vcpuNum": 48
   },
   {
    "_defaultOrder": 45,
    "_isFastLaunch": false,
    "category": "Memory Optimized",
    "gpuNum": 0,
    "hideHardwareSpecs": false,
    "memoryGiB": 512,
    "name": "ml.r5.16xlarge",
    "vcpuNum": 64
   },
   {
    "_defaultOrder": 46,
    "_isFastLaunch": false,
    "category": "Memory Optimized",
    "gpuNum": 0,
    "hideHardwareSpecs": false,
    "memoryGiB": 768,
    "name": "ml.r5.24xlarge",
    "vcpuNum": 96
   },
   {
    "_defaultOrder": 47,
    "_isFastLaunch": false,
    "category": "Accelerated computing",
    "gpuNum": 1,
    "hideHardwareSpecs": false,
    "memoryGiB": 16,
    "name": "ml.g5.xlarge",
    "vcpuNum": 4
   },
   {
    "_defaultOrder": 48,
    "_isFastLaunch": false,
    "category": "Accelerated computing",
    "gpuNum": 1,
    "hideHardwareSpecs": false,
    "memoryGiB": 32,
    "name": "ml.g5.2xlarge",
    "vcpuNum": 8
   },
   {
    "_defaultOrder": 49,
    "_isFastLaunch": false,
    "category": "Accelerated computing",
    "gpuNum": 1,
    "hideHardwareSpecs": false,
    "memoryGiB": 64,
    "name": "ml.g5.4xlarge",
    "vcpuNum": 16
   },
   {
    "_defaultOrder": 50,
    "_isFastLaunch": false,
    "category": "Accelerated computing",
    "gpuNum": 1,
    "hideHardwareSpecs": false,
    "memoryGiB": 128,
    "name": "ml.g5.8xlarge",
    "vcpuNum": 32
   },
   {
    "_defaultOrder": 51,
    "_isFastLaunch": false,
    "category": "Accelerated computing",
    "gpuNum": 1,
    "hideHardwareSpecs": false,
    "memoryGiB": 256,
    "name": "ml.g5.16xlarge",
    "vcpuNum": 64
   },
   {
    "_defaultOrder": 52,
    "_isFastLaunch": false,
    "category": "Accelerated computing",
    "gpuNum": 4,
    "hideHardwareSpecs": false,
    "memoryGiB": 192,
    "name": "ml.g5.12xlarge",
    "vcpuNum": 48
   },
   {
    "_defaultOrder": 53,
    "_isFastLaunch": false,
    "category": "Accelerated computing",
    "gpuNum": 4,
    "hideHardwareSpecs": false,
    "memoryGiB": 384,
    "name": "ml.g5.24xlarge",
    "vcpuNum": 96
   },
   {
    "_defaultOrder": 54,
    "_isFastLaunch": false,
    "category": "Accelerated computing",
    "gpuNum": 8,
    "hideHardwareSpecs": false,
    "memoryGiB": 768,
    "name": "ml.g5.48xlarge",
    "vcpuNum": 192
   },
   {
    "_defaultOrder": 55,
    "_isFastLaunch": false,
    "category": "Accelerated computing",
    "gpuNum": 8,
    "hideHardwareSpecs": false,
    "memoryGiB": 1152,
    "name": "ml.p4d.24xlarge",
    "vcpuNum": 96
   },
   {
    "_defaultOrder": 56,
    "_isFastLaunch": false,
    "category": "Accelerated computing",
    "gpuNum": 8,
    "hideHardwareSpecs": false,
    "memoryGiB": 1152,
    "name": "ml.p4de.24xlarge",
    "vcpuNum": 96
   }
  ],
  "instance_type": "ml.t3.medium",
  "kernelspec": {
   "display_name": "Python 3 (Data Science 3.0)",
   "language": "python",
   "name": "python3__SAGEMAKER_INTERNAL__arn:aws:sagemaker:us-east-1:081325390199:image/sagemaker-data-science-310-v1"
  },
  "language_info": {
   "codemirror_mode": {
    "name": "ipython",
    "version": 3
   },
   "file_extension": ".py",
   "mimetype": "text/x-python",
   "name": "python",
   "nbconvert_exporter": "python",
   "pygments_lexer": "ipython3",
   "version": "3.10.6"
  },
  "toc-autonumbering": true,
  "toc-showcode": false,
  "toc-showmarkdowntxt": false,
  "toc-showtags": false
 },
 "nbformat": 4,
 "nbformat_minor": 5
}
