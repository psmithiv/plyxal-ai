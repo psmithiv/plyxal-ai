{
 "cells": [
  {
   "cell_type": "code",
   "execution_count": null,
   "id": "f3ad9f61-85ad-40e4-97bd-e3856fe24217",
   "metadata": {
    "tags": []
   },
   "outputs": [],
   "source": [
    "# set environmetal variables #\n",
    "%env PIP_ROOT_USER_ACTION=ignore"
   ]
  },
  {
   "cell_type": "code",
   "execution_count": null,
   "id": "8a4aba2c-1516-4841-a696-0de00164280f",
   "metadata": {
    "tags": []
   },
   "outputs": [],
   "source": [
    "# install requirements #\n",
    "!pip install -q -r ./requirements.txt #--use-deprecated=legacy-resolver"
   ]
  },
  {
   "cell_type": "code",
   "execution_count": null,
   "id": "3abdfaf3-f45e-4e7b-adfc-723b560b8560",
   "metadata": {
    "tags": []
   },
   "outputs": [],
   "source": [
    "# launch app #\n",
    "!python -Wignore ./app.py --cpu-only --share"
   ]
  },
  {
   "cell_type": "code",
   "execution_count": null,
   "id": "fba3847b-3afd-4a19-bac6-f8a2482128af",
   "metadata": {
    "tags": []
   },
   "outputs": [],
   "source": []
  }
 ],
 "metadata": {
  "availableInstances": [
   
  ],
 },
 "nbformat": 4,
 "nbformat_minor": 5
}
