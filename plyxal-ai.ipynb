{
 "cells": [
  {
   "cell_type": "markdown",
   "id": "d50d48aa-511c-48b0-a57e-b4f9c1dc66e6",
   "metadata": {
    "jp-MarkdownHeadingCollapsed": true,
    "tags": []
   },
   "source": [
    "# configuare poetry environment and create kernel"
   ]
  },
  {
   "cell_type": "markdown",
   "id": "cfc00d27-9804-45df-9dc3-c57d80a49d33",
   "metadata": {
    "tags": []
   },
   "source": [
    "## check min requirements"
   ]
  },
  {
   "cell_type": "code",
   "execution_count": 2,
   "id": "b40a0b18-ed3d-4c3f-809d-f2f156c2bd27",
   "metadata": {
    "tags": []
   },
   "outputs": [
    {
     "name": "stdout",
     "output_type": "stream",
     "text": [
      "Python 3.10.6\n",
      "pip 23.2.1 from /opt/conda/lib/python3.10/site-packages/pip (python 3.10)\n",
      "/bin/bash: line 1: poetry: command not found\n"
     ]
    }
   ],
   "source": [
    "# confirm python and pip versions meet min requirements (3.10.x and 23.2.x respectivly)\n",
    "!python3 --version\n",
    "!pip3 --version\n",
    "!poetry --version"
   ]
  },
  {
   "cell_type": "markdown",
   "id": "5b19179f-2127-4fbd-9ce5-f44d7bcacd69",
   "metadata": {
    "tags": []
   },
   "source": [
    "## install poetry and dependensees"
   ]
  },
  {
   "cell_type": "code",
   "execution_count": 3,
   "id": "af65cad1-c5d5-49ac-81e3-295290ab5adc",
   "metadata": {},
   "outputs": [
    {
     "name": "stdout",
     "output_type": "stream",
     "text": [
      "\u001b[39;1mPoetry\u001b[39;22m (version \u001b[36m1.6.1\u001b[39m)\n"
     ]
    }
   ],
   "source": [
    "# install poetry\n",
    "!pip3 install -q poetry 2>/dev/null --root-user-action=ignore \n",
    "!poetry --version"
   ]
  },
  {
   "cell_type": "code",
   "execution_count": 4,
   "id": "ffec4a39-4923-44ba-abc7-a684e34317e6",
   "metadata": {
    "scrolled": true,
    "tags": []
   },
   "outputs": [
    {
     "name": "stdout",
     "output_type": "stream",
     "text": [
      "\u001b[34mInstalling dependencies from lock file\u001b[39m\n",
      "\n",
      "No dependencies to install or update\n",
      "\n",
      "\u001b[39;1mInstalling\u001b[39;22m the current project: \u001b[36mplyxal-ai\u001b[39m (\u001b[39;1m0.0.1\u001b[39;22m)\u001b[1G\u001b[2K\u001b[39;1mInstalling\u001b[39;22m the current project: \u001b[36mplyxal-ai\u001b[39m (\u001b[32m0.0.1\u001b[39m)\n",
      "/root/plyxal-ai/.venv\n"
     ]
    }
   ],
   "source": [
    "# create virtual environment and install dependancies\n",
    "!poetry install --no-cache\n",
    "!poetry env info -p"
   ]
  },
  {
   "cell_type": "markdown",
   "id": "002835e9-dc06-444a-9056-afa1ee567aa4",
   "metadata": {
    "tags": []
   },
   "source": [
    "## create notebook kernal"
   ]
  },
  {
   "cell_type": "code",
   "execution_count": 4,
   "id": "2d5c2536-634e-4bb6-9e52-33d06faa8fe8",
   "metadata": {
    "tags": []
   },
   "outputs": [
    {
     "name": "stdout",
     "output_type": "stream",
     "text": [
      "/root/plyxal-ai/.venv\n",
      "Installed kernelspec plyxal-ai in /root/.local/share/jupyter/kernels/plyxal-ai\n",
      "the poety environment is now configured, please switch kernels using 'Kernel -> Change Kernel...'\n"
     ]
    }
   ],
   "source": [
    "# create poetry jypter kernel\n",
    "import os, subprocess\n",
    "\n",
    "# Run the 'poetry env info --path' command to get the venv path\n",
    "venv_path = subprocess.check_output([\"poetry\", \"env\", \"info\", \"--path\"], universal_newlines=True).strip()\n",
    "print(venv_path)\n",
    "\n",
    "# Construct the command to create the Jupyter kernel\n",
    "kernel_command = f\"{venv_path}/bin/python -m ipykernel install --user --name plyxal-ai --display-name plyxal-ai\"\n",
    "os.system(kernel_command)\n",
    "\n",
    "print(\"the poety environment is now configured, please switch kernels using 'Kernel -> Change Kernel...'\")"
   ]
  },
  {
   "cell_type": "markdown",
   "id": "0ff6d092-7a79-4f61-aa25-45e8e8bc74c9",
   "metadata": {
    "jp-MarkdownHeadingCollapsed": true,
    "tags": []
   },
   "source": [
    "## utils"
   ]
  },
  {
   "cell_type": "raw",
   "id": "5ebfba22-7357-43ef-9e2b-f47187583239",
   "metadata": {
    "tags": []
   },
   "source": [
    "# remove kernal (use at own risk)\n",
    "import os\n",
    "\n",
    "poetry_env_name = os.popen(\"poetry env info --path | awk -F/ '{print $(NF-1)}'\").read().strip()\n",
    "\n",
    "# Construct the command to remove the kernel and redirect stdin to /dev/null\n",
    "kernel_removal_command = f\"echo 'y' | jupyter kernelspec remove {poetry_env_name}\"\n",
    "\n",
    "# Use os.system to execute the kernel removal command\n",
    "os.system(kernel_removal_command)"
   ]
  },
  {
   "cell_type": "code",
   "execution_count": null,
   "id": "d771dc16-4833-411b-98c3-a81a65607342",
   "metadata": {
    "tags": []
   },
   "outputs": [],
   "source": [
    "# remove all virtual environments\n",
    "!poetry env remove --all"
   ]
  },
  {
   "cell_type": "raw",
   "id": "130b5a3e-bd0b-49fb-861e-048132d4158b",
   "metadata": {
    "jupyter": {
     "outputs_hidden": true
    },
    "tags": []
   },
   "source": [
    "# install older version of torchvision to avoid defect that causes peotry to delete a lib\n",
    "!poetry add torchvision==0.15.1"
   ]
  },
  {
   "cell_type": "raw",
   "id": "15e1c8e1-89be-4aa0-951f-af777fc2f8e6",
   "metadata": {
    "tags": []
   },
   "source": [
    "# remove current virtual environment\n",
    "!poetry env remove 3.10.6"
   ]
  },
  {
   "cell_type": "raw",
   "id": "b411388a-2d8d-4a7b-b950-674169f15a8d",
   "metadata": {
    "tags": []
   },
   "source": [
    "# add lib\n",
    "!poetry add matplotlib_inline"
   ]
  },
  {
   "cell_type": "raw",
   "id": "4ed1ad9a-22e4-4e6e-8b14-95a9328f278b",
   "metadata": {
    "tags": []
   },
   "source": [
    "# remove all models\n",
    "!rm /mdoel -r"
   ]
  },
  {
   "cell_type": "raw",
   "id": "87eaec62-7172-489a-b582-1c82f09ccb6f",
   "metadata": {
    "tags": []
   },
   "source": [
    "# clear cache\n",
    "!pip cache purge\n",
    "!pip3 cache prurge\n",
    "!rm -rf ~/.cache/pypoetry\n",
    "!rm -rf /qwen\n",
    "!conda clean -a"
   ]
  },
  {
   "cell_type": "raw",
   "id": "92afb11c-fa82-4246-80a7-d7285db62ab7",
   "metadata": {},
   "source": [
    "!pip install huggingface_hub[\"cli\"]\n",
    "!huggingface-cli delete-cache"
   ]
  },
  {
   "cell_type": "markdown",
   "id": "f717b576-d0e6-4dca-846f-40642e9274c0",
   "metadata": {
    "jp-MarkdownHeadingCollapsed": true,
    "tags": []
   },
   "source": [
    "# show/hide hidden"
   ]
  },
  {
   "cell_type": "code",
   "execution_count": null,
   "id": "dac6d8f1-d65c-430b-9164-3ceb4160f58d",
   "metadata": {
    "scrolled": true,
    "tags": []
   },
   "outputs": [],
   "source": [
    "# show hidden (refresh file browser after running)\n",
    "!poetry run python ./src/scripts/symlinks.py ./ -i .git .ipynb_checkpoints -q"
   ]
  },
  {
   "cell_type": "code",
   "execution_count": null,
   "id": "447f9f5f-7a00-4270-8a70-f41e0f247d35",
   "metadata": {
    "tags": []
   },
   "outputs": [],
   "source": [
    "# hide hidden (refresh file browser after running)\n",
    "!poetry run python ./src/scripts/symlinks.py ./ -r -q"
   ]
  },
  {
   "cell_type": "markdown",
   "id": "9a031833-efba-464e-b535-b1ca1c19ffc1",
   "metadata": {
    "tags": []
   },
   "source": [
    "# launch application"
   ]
  },
  {
   "cell_type": "raw",
   "id": "9aef8d85-752d-4591-acc4-90b6aa3fab67",
   "metadata": {
    "jupyter": {
     "source_hidden": true
    },
    "tags": []
   },
   "source": [
    "# launch qwe_vl.py\n",
    "!poetry run python /root/plyxal-ai/src/qwen_vl/qwen_vl.py --cpu-only --share --server-port=2222 --model-cache=\"/root/models/qwen\""
   ]
  },
  {
   "cell_type": "code",
   "execution_count": null,
   "id": "be18454a-cbd5-441e-9d7f-4be28a63d267",
   "metadata": {
    "tags": []
   },
   "outputs": [],
   "source": [
    "# launch qwen_vl_int4.py\n",
    "!poetry run python /root/plyxal-ai/src/plyxal_ai.py --message=\"hello\""
   ]
  },
  {
   "cell_type": "code",
   "execution_count": null,
   "id": "bd8d40ac-3d9f-45f9-a9f5-fad06c665ecd",
   "metadata": {
    "tags": []
   },
   "outputs": [],
   "source": [
    "from qwen_vl_int4 import QwenVlInt4\n",
    "\n",
    "# QwenVlInt4()"
   ]
  },
  {
   "cell_type": "markdown",
   "id": "2ef60467-3e92-46dc-91e0-ba8625c8e9f8",
   "metadata": {
    "tags": []
   },
   "source": [
    "# experiments"
   ]
  },
  {
   "cell_type": "code",
   "execution_count": null,
   "id": "7a8b452b-d353-49c8-9d10-8987244d767b",
   "metadata": {},
   "outputs": [],
   "source": []
  }
 ],
 "metadata": {
  "availableInstances": [
   {
    "_defaultOrder": 0,
    "_isFastLaunch": true,
    "category": "General purpose",
    "gpuNum": 0,
    "hideHardwareSpecs": false,
    "memoryGiB": 4,
    "name": "ml.t3.medium",
    "vcpuNum": 2
   },
   {
    "_defaultOrder": 1,
    "_isFastLaunch": false,
    "category": "General purpose",
    "gpuNum": 0,
    "hideHardwareSpecs": false,
    "memoryGiB": 8,
    "name": "ml.t3.large",
    "vcpuNum": 2
   },
   {
    "_defaultOrder": 2,
    "_isFastLaunch": false,
    "category": "General purpose",
    "gpuNum": 0,
    "hideHardwareSpecs": false,
    "memoryGiB": 16,
    "name": "ml.t3.xlarge",
    "vcpuNum": 4
   },
   {
    "_defaultOrder": 3,
    "_isFastLaunch": false,
    "category": "General purpose",
    "gpuNum": 0,
    "hideHardwareSpecs": false,
    "memoryGiB": 32,
    "name": "ml.t3.2xlarge",
    "vcpuNum": 8
   },
   {
    "_defaultOrder": 4,
    "_isFastLaunch": true,
    "category": "General purpose",
    "gpuNum": 0,
    "hideHardwareSpecs": false,
    "memoryGiB": 8,
    "name": "ml.m5.large",
    "vcpuNum": 2
   },
   {
    "_defaultOrder": 5,
    "_isFastLaunch": false,
    "category": "General purpose",
    "gpuNum": 0,
    "hideHardwareSpecs": false,
    "memoryGiB": 16,
    "name": "ml.m5.xlarge",
    "vcpuNum": 4
   },
   {
    "_defaultOrder": 6,
    "_isFastLaunch": false,
    "category": "General purpose",
    "gpuNum": 0,
    "hideHardwareSpecs": false,
    "memoryGiB": 32,
    "name": "ml.m5.2xlarge",
    "vcpuNum": 8
   },
   {
    "_defaultOrder": 7,
    "_isFastLaunch": false,
    "category": "General purpose",
    "gpuNum": 0,
    "hideHardwareSpecs": false,
    "memoryGiB": 64,
    "name": "ml.m5.4xlarge",
    "vcpuNum": 16
   },
   {
    "_defaultOrder": 8,
    "_isFastLaunch": false,
    "category": "General purpose",
    "gpuNum": 0,
    "hideHardwareSpecs": false,
    "memoryGiB": 128,
    "name": "ml.m5.8xlarge",
    "vcpuNum": 32
   },
   {
    "_defaultOrder": 9,
    "_isFastLaunch": false,
    "category": "General purpose",
    "gpuNum": 0,
    "hideHardwareSpecs": false,
    "memoryGiB": 192,
    "name": "ml.m5.12xlarge",
    "vcpuNum": 48
   },
   {
    "_defaultOrder": 10,
    "_isFastLaunch": false,
    "category": "General purpose",
    "gpuNum": 0,
    "hideHardwareSpecs": false,
    "memoryGiB": 256,
    "name": "ml.m5.16xlarge",
    "vcpuNum": 64
   },
   {
    "_defaultOrder": 11,
    "_isFastLaunch": false,
    "category": "General purpose",
    "gpuNum": 0,
    "hideHardwareSpecs": false,
    "memoryGiB": 384,
    "name": "ml.m5.24xlarge",
    "vcpuNum": 96
   },
   {
    "_defaultOrder": 12,
    "_isFastLaunch": false,
    "category": "General purpose",
    "gpuNum": 0,
    "hideHardwareSpecs": false,
    "memoryGiB": 8,
    "name": "ml.m5d.large",
    "vcpuNum": 2
   },
   {
    "_defaultOrder": 13,
    "_isFastLaunch": false,
    "category": "General purpose",
    "gpuNum": 0,
    "hideHardwareSpecs": false,
    "memoryGiB": 16,
    "name": "ml.m5d.xlarge",
    "vcpuNum": 4
   },
   {
    "_defaultOrder": 14,
    "_isFastLaunch": false,
    "category": "General purpose",
    "gpuNum": 0,
    "hideHardwareSpecs": false,
    "memoryGiB": 32,
    "name": "ml.m5d.2xlarge",
    "vcpuNum": 8
   },
   {
    "_defaultOrder": 15,
    "_isFastLaunch": false,
    "category": "General purpose",
    "gpuNum": 0,
    "hideHardwareSpecs": false,
    "memoryGiB": 64,
    "name": "ml.m5d.4xlarge",
    "vcpuNum": 16
   },
   {
    "_defaultOrder": 16,
    "_isFastLaunch": false,
    "category": "General purpose",
    "gpuNum": 0,
    "hideHardwareSpecs": false,
    "memoryGiB": 128,
    "name": "ml.m5d.8xlarge",
    "vcpuNum": 32
   },
   {
    "_defaultOrder": 17,
    "_isFastLaunch": false,
    "category": "General purpose",
    "gpuNum": 0,
    "hideHardwareSpecs": false,
    "memoryGiB": 192,
    "name": "ml.m5d.12xlarge",
    "vcpuNum": 48
   },
   {
    "_defaultOrder": 18,
    "_isFastLaunch": false,
    "category": "General purpose",
    "gpuNum": 0,
    "hideHardwareSpecs": false,
    "memoryGiB": 256,
    "name": "ml.m5d.16xlarge",
    "vcpuNum": 64
   },
   {
    "_defaultOrder": 19,
    "_isFastLaunch": false,
    "category": "General purpose",
    "gpuNum": 0,
    "hideHardwareSpecs": false,
    "memoryGiB": 384,
    "name": "ml.m5d.24xlarge",
    "vcpuNum": 96
   },
   {
    "_defaultOrder": 20,
    "_isFastLaunch": false,
    "category": "General purpose",
    "gpuNum": 0,
    "hideHardwareSpecs": true,
    "memoryGiB": 0,
    "name": "ml.geospatial.interactive",
    "supportedImageNames": [
     "sagemaker-geospatial-v1-0"
    ],
    "vcpuNum": 0
   },
   {
    "_defaultOrder": 21,
    "_isFastLaunch": true,
    "category": "Compute optimized",
    "gpuNum": 0,
    "hideHardwareSpecs": false,
    "memoryGiB": 4,
    "name": "ml.c5.large",
    "vcpuNum": 2
   },
   {
    "_defaultOrder": 22,
    "_isFastLaunch": false,
    "category": "Compute optimized",
    "gpuNum": 0,
    "hideHardwareSpecs": false,
    "memoryGiB": 8,
    "name": "ml.c5.xlarge",
    "vcpuNum": 4
   },
   {
    "_defaultOrder": 23,
    "_isFastLaunch": false,
    "category": "Compute optimized",
    "gpuNum": 0,
    "hideHardwareSpecs": false,
    "memoryGiB": 16,
    "name": "ml.c5.2xlarge",
    "vcpuNum": 8
   },
   {
    "_defaultOrder": 24,
    "_isFastLaunch": false,
    "category": "Compute optimized",
    "gpuNum": 0,
    "hideHardwareSpecs": false,
    "memoryGiB": 32,
    "name": "ml.c5.4xlarge",
    "vcpuNum": 16
   },
   {
    "_defaultOrder": 25,
    "_isFastLaunch": false,
    "category": "Compute optimized",
    "gpuNum": 0,
    "hideHardwareSpecs": false,
    "memoryGiB": 72,
    "name": "ml.c5.9xlarge",
    "vcpuNum": 36
   },
   {
    "_defaultOrder": 26,
    "_isFastLaunch": false,
    "category": "Compute optimized",
    "gpuNum": 0,
    "hideHardwareSpecs": false,
    "memoryGiB": 96,
    "name": "ml.c5.12xlarge",
    "vcpuNum": 48
   },
   {
    "_defaultOrder": 27,
    "_isFastLaunch": false,
    "category": "Compute optimized",
    "gpuNum": 0,
    "hideHardwareSpecs": false,
    "memoryGiB": 144,
    "name": "ml.c5.18xlarge",
    "vcpuNum": 72
   },
   {
    "_defaultOrder": 28,
    "_isFastLaunch": false,
    "category": "Compute optimized",
    "gpuNum": 0,
    "hideHardwareSpecs": false,
    "memoryGiB": 192,
    "name": "ml.c5.24xlarge",
    "vcpuNum": 96
   },
   {
    "_defaultOrder": 29,
    "_isFastLaunch": true,
    "category": "Accelerated computing",
    "gpuNum": 1,
    "hideHardwareSpecs": false,
    "memoryGiB": 16,
    "name": "ml.g4dn.xlarge",
    "vcpuNum": 4
   },
   {
    "_defaultOrder": 30,
    "_isFastLaunch": false,
    "category": "Accelerated computing",
    "gpuNum": 1,
    "hideHardwareSpecs": false,
    "memoryGiB": 32,
    "name": "ml.g4dn.2xlarge",
    "vcpuNum": 8
   },
   {
    "_defaultOrder": 31,
    "_isFastLaunch": false,
    "category": "Accelerated computing",
    "gpuNum": 1,
    "hideHardwareSpecs": false,
    "memoryGiB": 64,
    "name": "ml.g4dn.4xlarge",
    "vcpuNum": 16
   },
   {
    "_defaultOrder": 32,
    "_isFastLaunch": false,
    "category": "Accelerated computing",
    "gpuNum": 1,
    "hideHardwareSpecs": false,
    "memoryGiB": 128,
    "name": "ml.g4dn.8xlarge",
    "vcpuNum": 32
   },
   {
    "_defaultOrder": 33,
    "_isFastLaunch": false,
    "category": "Accelerated computing",
    "gpuNum": 4,
    "hideHardwareSpecs": false,
    "memoryGiB": 192,
    "name": "ml.g4dn.12xlarge",
    "vcpuNum": 48
   },
   {
    "_defaultOrder": 34,
    "_isFastLaunch": false,
    "category": "Accelerated computing",
    "gpuNum": 1,
    "hideHardwareSpecs": false,
    "memoryGiB": 256,
    "name": "ml.g4dn.16xlarge",
    "vcpuNum": 64
   },
   {
    "_defaultOrder": 35,
    "_isFastLaunch": false,
    "category": "Accelerated computing",
    "gpuNum": 1,
    "hideHardwareSpecs": false,
    "memoryGiB": 61,
    "name": "ml.p3.2xlarge",
    "vcpuNum": 8
   },
   {
    "_defaultOrder": 36,
    "_isFastLaunch": false,
    "category": "Accelerated computing",
    "gpuNum": 4,
    "hideHardwareSpecs": false,
    "memoryGiB": 244,
    "name": "ml.p3.8xlarge",
    "vcpuNum": 32
   },
   {
    "_defaultOrder": 37,
    "_isFastLaunch": false,
    "category": "Accelerated computing",
    "gpuNum": 8,
    "hideHardwareSpecs": false,
    "memoryGiB": 488,
    "name": "ml.p3.16xlarge",
    "vcpuNum": 64
   },
   {
    "_defaultOrder": 38,
    "_isFastLaunch": false,
    "category": "Accelerated computing",
    "gpuNum": 8,
    "hideHardwareSpecs": false,
    "memoryGiB": 768,
    "name": "ml.p3dn.24xlarge",
    "vcpuNum": 96
   },
   {
    "_defaultOrder": 39,
    "_isFastLaunch": false,
    "category": "Memory Optimized",
    "gpuNum": 0,
    "hideHardwareSpecs": false,
    "memoryGiB": 16,
    "name": "ml.r5.large",
    "vcpuNum": 2
   },
   {
    "_defaultOrder": 40,
    "_isFastLaunch": false,
    "category": "Memory Optimized",
    "gpuNum": 0,
    "hideHardwareSpecs": false,
    "memoryGiB": 32,
    "name": "ml.r5.xlarge",
    "vcpuNum": 4
   },
   {
    "_defaultOrder": 41,
    "_isFastLaunch": false,
    "category": "Memory Optimized",
    "gpuNum": 0,
    "hideHardwareSpecs": false,
    "memoryGiB": 64,
    "name": "ml.r5.2xlarge",
    "vcpuNum": 8
   },
   {
    "_defaultOrder": 42,
    "_isFastLaunch": false,
    "category": "Memory Optimized",
    "gpuNum": 0,
    "hideHardwareSpecs": false,
    "memoryGiB": 128,
    "name": "ml.r5.4xlarge",
    "vcpuNum": 16
   },
   {
    "_defaultOrder": 43,
    "_isFastLaunch": false,
    "category": "Memory Optimized",
    "gpuNum": 0,
    "hideHardwareSpecs": false,
    "memoryGiB": 256,
    "name": "ml.r5.8xlarge",
    "vcpuNum": 32
   },
   {
    "_defaultOrder": 44,
    "_isFastLaunch": false,
    "category": "Memory Optimized",
    "gpuNum": 0,
    "hideHardwareSpecs": false,
    "memoryGiB": 384,
    "name": "ml.r5.12xlarge",
    "vcpuNum": 48
   },
   {
    "_defaultOrder": 45,
    "_isFastLaunch": false,
    "category": "Memory Optimized",
    "gpuNum": 0,
    "hideHardwareSpecs": false,
    "memoryGiB": 512,
    "name": "ml.r5.16xlarge",
    "vcpuNum": 64
   },
   {
    "_defaultOrder": 46,
    "_isFastLaunch": false,
    "category": "Memory Optimized",
    "gpuNum": 0,
    "hideHardwareSpecs": false,
    "memoryGiB": 768,
    "name": "ml.r5.24xlarge",
    "vcpuNum": 96
   },
   {
    "_defaultOrder": 47,
    "_isFastLaunch": false,
    "category": "Accelerated computing",
    "gpuNum": 1,
    "hideHardwareSpecs": false,
    "memoryGiB": 16,
    "name": "ml.g5.xlarge",
    "vcpuNum": 4
   },
   {
    "_defaultOrder": 48,
    "_isFastLaunch": false,
    "category": "Accelerated computing",
    "gpuNum": 1,
    "hideHardwareSpecs": false,
    "memoryGiB": 32,
    "name": "ml.g5.2xlarge",
    "vcpuNum": 8
   },
   {
    "_defaultOrder": 49,
    "_isFastLaunch": false,
    "category": "Accelerated computing",
    "gpuNum": 1,
    "hideHardwareSpecs": false,
    "memoryGiB": 64,
    "name": "ml.g5.4xlarge",
    "vcpuNum": 16
   },
   {
    "_defaultOrder": 50,
    "_isFastLaunch": false,
    "category": "Accelerated computing",
    "gpuNum": 1,
    "hideHardwareSpecs": false,
    "memoryGiB": 128,
    "name": "ml.g5.8xlarge",
    "vcpuNum": 32
   },
   {
    "_defaultOrder": 51,
    "_isFastLaunch": false,
    "category": "Accelerated computing",
    "gpuNum": 1,
    "hideHardwareSpecs": false,
    "memoryGiB": 256,
    "name": "ml.g5.16xlarge",
    "vcpuNum": 64
   },
   {
    "_defaultOrder": 52,
    "_isFastLaunch": false,
    "category": "Accelerated computing",
    "gpuNum": 4,
    "hideHardwareSpecs": false,
    "memoryGiB": 192,
    "name": "ml.g5.12xlarge",
    "vcpuNum": 48
   },
   {
    "_defaultOrder": 53,
    "_isFastLaunch": false,
    "category": "Accelerated computing",
    "gpuNum": 4,
    "hideHardwareSpecs": false,
    "memoryGiB": 384,
    "name": "ml.g5.24xlarge",
    "vcpuNum": 96
   },
   {
    "_defaultOrder": 54,
    "_isFastLaunch": false,
    "category": "Accelerated computing",
    "gpuNum": 8,
    "hideHardwareSpecs": false,
    "memoryGiB": 768,
    "name": "ml.g5.48xlarge",
    "vcpuNum": 192
   },
   {
    "_defaultOrder": 55,
    "_isFastLaunch": false,
    "category": "Accelerated computing",
    "gpuNum": 8,
    "hideHardwareSpecs": false,
    "memoryGiB": 1152,
    "name": "ml.p4d.24xlarge",
    "vcpuNum": 96
   },
   {
    "_defaultOrder": 56,
    "_isFastLaunch": false,
    "category": "Accelerated computing",
    "gpuNum": 8,
    "hideHardwareSpecs": false,
    "memoryGiB": 1152,
    "name": "ml.p4de.24xlarge",
    "vcpuNum": 96
   }
  ],
  "instance_type": "ml.t3.medium",
  "kernelspec": {
   "display_name": "plyxal-ai (arn:aws:sagemaker:us-east-1:081325390199:image/sagemaker-data-science-310-v1)",
   "language": "python",
   "name": "plyxal-ai__SAGEMAKER_INTERNAL__arn:aws:sagemaker:us-east-1:081325390199:image/sagemaker-data-science-310-v1"
  },
  "language_info": {
   "codemirror_mode": {
    "name": "ipython",
    "version": 3
   },
   "file_extension": ".py",
   "mimetype": "text/x-python",
   "name": "python",
   "nbconvert_exporter": "python",
   "pygments_lexer": "ipython3",
   "version": "3.10.6"
  },
  "toc-autonumbering": true,
  "toc-showcode": false,
  "toc-showmarkdowntxt": false,
  "toc-showtags": false
 },
 "nbformat": 4,
 "nbformat_minor": 5
}
